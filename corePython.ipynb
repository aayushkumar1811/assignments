{
 "cells": [
  {
   "cell_type": "markdown",
   "metadata": {},
   "source": [
    "Q1. What tool does a programmer use to produce Python source code?"
   ]
  },
  {
   "cell_type": "markdown",
   "metadata": {},
   "source": [
    "Ans.- A programmer can use any text editor or IDE available to generate python source code"
   ]
  },
  {
   "cell_type": "markdown",
   "metadata": {},
   "source": [
    "Q2. What is necessary to execute a Python program?"
   ]
  },
  {
   "cell_type": "markdown",
   "metadata": {},
   "source": [
    "Ans. - A Python interpreter and Library Modules to execute a program"
   ]
  },
  {
   "cell_type": "markdown",
   "metadata": {},
   "source": [
    "Q3. What is the “official” Python IDE?"
   ]
  },
  {
   "cell_type": "markdown",
   "metadata": {},
   "source": [
    "Ans. There is no such \"Official\" Python IDE I was able to find"
   ]
  },
  {
   "cell_type": "markdown",
   "metadata": {},
   "source": [
    "Q4. What is a statement in a Python program?"
   ]
  },
  {
   "cell_type": "markdown",
   "metadata": {},
   "source": [
    "Instructions that a Python interpreter can execute are called statements"
   ]
  },
  {
   "cell_type": "markdown",
   "metadata": {},
   "source": [
    "Q5. Will the following lines of code print the same thing? Explain why or why not.\n",
    "x = 6\n",
    "print(6)\n",
    "print(\"6\")\n"
   ]
  },
  {
   "cell_type": "markdown",
   "metadata": {},
   "source": [
    "Ans. The above both lines will print the same thing"
   ]
  },
  {
   "cell_type": "markdown",
   "metadata": {},
   "source": [
    "Q6. Will the following lines of code print the same thing? Explain why or why not.\n",
    "x = 7\n",
    "print(x)\n",
    "print(\"x\")\n"
   ]
  },
  {
   "cell_type": "markdown",
   "metadata": {},
   "source": [
    "Ans. The above two print statement will print two different values. first statement will print an integer data 7 and the second staement will print a string X "
   ]
  },
  {
   "cell_type": "markdown",
   "metadata": {},
   "source": [
    "Q7. What happens if you attempt to use a variable within a program, and that variable has not been assigned a value?"
   ]
  },
  {
   "cell_type": "markdown",
   "metadata": {},
   "source": [
    "Ans. -> We will get an error. Name error \"variable name not defined\""
   ]
  },
  {
   "cell_type": "markdown",
   "metadata": {},
   "source": [
    "Q8. What is wrong with the following statement that attempts to assign the value ten to variable x? 10 = x"
   ]
  },
  {
   "cell_type": "markdown",
   "metadata": {},
   "source": [
    "Ans. -->Syntax given for assign operator is not correct. "
   ]
  },
  {
   "cell_type": "markdown",
   "metadata": {},
   "source": [
    "Q9. Once a variable has been properly assigned can its value be changed?"
   ]
  },
  {
   "cell_type": "markdown",
   "metadata": {},
   "source": [
    "Ans. A Value of a variable can be be changed by re-assining another value to it.\n",
    "    Ex. x = 10\n",
    "        print(x)\n",
    "        x = 12\n",
    "        print(x)"
   ]
  },
  {
   "cell_type": "markdown",
   "metadata": {},
   "source": [
    "Q10. In Python can you assign more than one variable in a single statement?"
   ]
  },
  {
   "cell_type": "markdown",
   "metadata": {},
   "source": [
    "Ans. Yes we can assign more than one variable in a single a statement\n",
    "     EX. a=2; b =3\n",
    "         a,b,c = 1,2,3"
   ]
  },
  {
   "cell_type": "markdown",
   "metadata": {},
   "source": [
    "Q11. What can you do if a variable name you would like to use is the same as a reserved word?"
   ]
  },
  {
   "cell_type": "markdown",
   "metadata": {},
   "source": [
    "Ans. We can add an underscore to use a before or after the reserved keyword"
   ]
  },
  {
   "cell_type": "markdown",
   "metadata": {},
   "source": [
    "Q12. How is the value 2.45×10^−5 expressed as a Python literal?"
   ]
  },
  {
   "cell_type": "markdown",
   "metadata": {},
   "source": [
    "Ans--> (2.45)/(10**5)"
   ]
  },
  {
   "cell_type": "markdown",
   "metadata": {},
   "source": [
    "Q13. How can you express the literal value 0.0000000000000000000000000449 as a much more compact Python literal?"
   ]
  },
  {
   "cell_type": "code",
   "execution_count": 45,
   "metadata": {},
   "outputs": [
    {
     "data": {
      "text/plain": [
       "4.44e-23"
      ]
     },
     "execution_count": 45,
     "metadata": {},
     "output_type": "execute_result"
    }
   ],
   "source": [
    "449/(10**25)"
   ]
  },
  {
   "cell_type": "markdown",
   "metadata": {},
   "source": [
    "Q14. How can you express the literal value 56992341200000000000000000000000000000 as a much more compact Python literal?"
   ]
  },
  {
   "cell_type": "code",
   "execution_count": 46,
   "metadata": {},
   "outputs": [
    {
     "data": {
      "text/plain": [
       "5569923410000000000000000000000000000"
      ]
     },
     "execution_count": 46,
     "metadata": {},
     "output_type": "execute_result"
    }
   ],
   "source": [
    "556992341*(10**28)"
   ]
  },
  {
   "cell_type": "markdown",
   "metadata": {},
   "source": [
    " Q15. Can a Python programmer do anything to ensure that a variable’s value can never be changed after its initial assignment?"
   ]
  },
  {
   "cell_type": "code",
   "execution_count": null,
   "metadata": {},
   "outputs": [],
   "source": [
    "Q15. Can a Python programmer do anything to ensure that a variable’s value can never be changed after its initial assignment"
   ]
  },
  {
   "cell_type": "markdown",
   "metadata": {},
   "source": [
    "Q16. Is \"i\" a string literal or variable?"
   ]
  },
  {
   "cell_type": "markdown",
   "metadata": {},
   "source": [
    "Ans. string"
   ]
  },
  {
   "cell_type": "markdown",
   "metadata": {},
   "source": [
    "17. What is the difference between the following two strings? 'n' and '\\n'?"
   ]
  },
  {
   "cell_type": "markdown",
   "metadata": {},
   "source": [
    "'n' is a string and '\\n' is used to break line"
   ]
  },
  {
   "cell_type": "markdown",
   "metadata": {},
   "source": [
    "Q. 18. Write a Python program containing exactly one print statement that produces the following output:\n",
    "A\n",
    "B\n",
    "C\n",
    "D\n",
    "E"
   ]
  },
  {
   "cell_type": "code",
   "execution_count": 72,
   "metadata": {},
   "outputs": [
    {
     "name": "stdout",
     "output_type": "stream",
     "text": [
      "A\n",
      "B\n",
      "C\n",
      "D\n",
      "E\n"
     ]
    }
   ],
   "source": [
    "for x in \"ABCDE\": print(x)"
   ]
  },
  {
   "cell_type": "markdown",
   "metadata": {},
   "source": [
    "Q19. Write a Python program that simply emits a beep sound when run."
   ]
  },
  {
   "cell_type": "code",
   "execution_count": 83,
   "metadata": {},
   "outputs": [],
   "source": [
    "import winsound\n",
    "frequency = 2500  # Set Frequency To 2500 Hertz\n",
    "duration = 1000  # Set Duration To 1000 ms == 1 second\n",
    "winsound.Beep(frequency, duration)"
   ]
  },
  {
   "cell_type": "markdown",
   "metadata": {},
   "source": [
    "Q20. Is the literal 4 a valid Python expression?"
   ]
  },
  {
   "cell_type": "markdown",
   "metadata": {},
   "source": [
    "Yes"
   ]
  },
  {
   "cell_type": "markdown",
   "metadata": {},
   "source": [
    "Q21. Is the variable x a valid Python expression?"
   ]
  },
  {
   "cell_type": "markdown",
   "metadata": {},
   "source": [
    "Ans. Unless we define a variable it is not valid"
   ]
  },
  {
   "cell_type": "markdown",
   "metadata": {},
   "source": [
    "Q22. Is x + 4 a valid Python expression?"
   ]
  },
  {
   "cell_type": "markdown",
   "metadata": {},
   "source": [
    "Ans. Not Valid"
   ]
  },
  {
   "cell_type": "markdown",
   "metadata": {},
   "source": [
    "Q23. . What effect does the unary + operator have when applied to a numeric expression?"
   ]
  },
  {
   "cell_type": "markdown",
   "metadata": {},
   "source": [
    "Ans.It does not effect anything, it can be used to showcase if the numer os +ve and -ve"
   ]
  },
  {
   "cell_type": "markdown",
   "metadata": {},
   "source": [
    "Q24. Sort the following binary operators in order of high to low precedence: +, -, *, //, /, %, =."
   ]
  },
  {
   "cell_type": "markdown",
   "metadata": {},
   "source": [
    "Below is the order\n",
    "*,//,/,%\n",
    "+,-\n",
    "=\n"
   ]
  },
  {
   "cell_type": "markdown",
   "metadata": {},
   "source": [
    "25. Given the following assignment: x = 2\n",
    "Indicate what each of the following Python statements would print.\n",
    "1) print(\"x\")\n",
    "2) print('x')\n",
    "3) print(x)\n",
    "4) print(\"x + 1\")\n",
    "5) print('x' + 1)"
   ]
  },
  {
   "cell_type": "markdown",
   "metadata": {},
   "source": [
    "Ans.\n",
    "O/P--- > \n",
    "1) print(\"x\") --> x\n",
    "2) print('x') --> x\n",
    "3) print(x) --> 2\n",
    "4) print(\"x + 1\") --> x+1\n",
    "5) print('x' + 1) --> Error --> can only concatenate str (not \"int\") to str\n",
    "6) print(x + 1) --> 3"
   ]
  },
  {
   "cell_type": "markdown",
   "metadata": {},
   "source": [
    "Q27. What is printed by the following statement: #print(5/3)\n"
   ]
  },
  {
   "cell_type": "code",
   "execution_count": 96,
   "metadata": {},
   "outputs": [],
   "source": [
    "#print(5/3) with hash it becomes a coment"
   ]
  },
  {
   "cell_type": "markdown",
   "metadata": {},
   "source": [
    "Q28. What symbol signifies the beginning of a comment in Python?"
   ]
  },
  {
   "cell_type": "markdown",
   "metadata": {},
   "source": [
    "And. \"#\""
   ]
  },
  {
   "cell_type": "markdown",
   "metadata": {},
   "source": [
    "Q28 How do Python comments end?"
   ]
  },
  {
   "cell_type": "markdown",
   "metadata": {},
   "source": [
    "Ans. Comments that span multiple lines – used to explain things in more detail – are created by adding a delimiter (“””) on each end of the comment."
   ]
  },
  {
   "cell_type": "markdown",
   "metadata": {},
   "source": [
    "Q30. Which is better, too many comments or too few comments?"
   ]
  },
  {
   "cell_type": "markdown",
   "metadata": {},
   "source": [
    "Ans. Niether too many nor too few. Comments should be added at needed points"
   ]
  },
  {
   "cell_type": "markdown",
   "metadata": {},
   "source": [
    "Q31. What is the purpose of comments?"
   ]
  },
  {
   "cell_type": "markdown",
   "metadata": {},
   "source": [
    "Ans. Purpose of comments are,\n",
    "to make the better understanding of code \n",
    "also in some cased it can be to understand the purpose of development"
   ]
  },
  {
   "cell_type": "markdown",
   "metadata": {},
   "source": [
    "Q 32. What circumstances can cause each of the following run-time errors to arise?\n",
    "1) NameError\n",
    "2) ValueError\n",
    "3) ZeroDivisionError\n",
    "3) IndentationError\n",
    "4) OverflowError\n",
    "5) SyntaxError\n",
    "6) TypeError\n",
    "Hint: Try some of the following activities in the interpreter or within a Python program:"
   ]
  },
  {
   "cell_type": "markdown",
   "metadata": {},
   "source": [
    "1) Name Error --> if we use a variable name which is not defined in code earlier\n",
    "2) Value Error -->   Inappropriate argument value (of correct type).\n",
    "3) ZeroDivisionError --> It occurs if we try to devide any number by Zero\n",
    "4) IndentationError --> It occurs if we miss proper space and tabs.\n",
    "5) OverflowError --> if we try to reprsent something too larger than expected\n",
    "6) SyntaxError --> if we miss to give any syntax in the program\n",
    "7) TypeError --> if we try to do an opertation between two different types of data\n",
    "8)  print a variable that has not been assigned\n",
    "  Ans. -> \n",
    "9) convert the string 'two' to an integer\n",
    "    Ans. -> Can not convert this to integer\n",
    "10) add an integer to a string\n",
    "    Ans. -> a=2\n",
    "    b='ram'\n",
    "    c=b+str(a)\n",
    "11) assign to a variable named end-point\n",
    "    Ans. -> python does not allow '-' for a variable name\n",
    "12) experiment adding spaces and tabs at various places in the code of an error-free Python program\n",
    "\n",
    "13)  compute raise a floating-point number to a large power, as in 1.5^10,000\n",
    "    Ans. -> 1.5**100000\n",
    "14) "
   ]
  },
  {
   "cell_type": "markdown",
   "metadata": {},
   "source": [
    "Q33) What is EOFError ?\n",
    "Ans -> Raised when the input() function hits an end-of-file condition (EOF) without reading any data. (N.B.: the io.IOBase.read() and io.IOBase.readline() methods return an empty string when they hit EOF.)"
   ]
  },
  {
   "cell_type": "markdown",
   "metadata": {},
   "source": [
    "Q34) Write the shortest way to express each of the following statements.\n",
    "1) x = x + 1 --> x+=1\n",
    "2) x = x / 2 --> x/=2\n",
    "3) x = x - 1 --> x-=1\n",
    "4) x = x + y --> x+=y\n",
    "5) x = x - (y + 7) --> x-=y+7\n",
    "6) x = 2*x --> x*=2\n",
    "7) number_of_closed_cases = number_of_closed_cases + 2*ncc --> number_of_closed_cases+=2*ncc\n",
    "\n"
   ]
  },
  {
   "cell_type": "markdown",
   "metadata": {},
   "source": [
    "Q35. What is printed by the following code fragment?\n",
    "x1 = 2\n",
    "x2 = 2\n",
    "x1 += 1\n",
    "x2 -= 1\n",
    "print(x1) --> O/P 3\n",
    "print(x2) --> O/P 1\n",
    "Why does the output appear as it does? += tries to call special method __iadd__ and if that is not available it uses __add__. \n",
    "The __iadd__ special method is for an in-place addition, that is it mutates the object that it acts on.\n",
    "The __add__ special method returns a new object and is also used for the standard + operator.\n",
    "when the += operator is used on an object which has an __iadd__ defined the object is modified in place. Otherwise it will instead try to use the plain __add__ and return a new object.\n"
   ]
  },
  {
   "cell_type": "markdown",
   "metadata": {},
   "source": [
    "36. Consider the following program that attempts to compute the circumference of a circle given the radius entered by the user. \n",
    "Given a circle’s radius, r, the circle’s circumference, C is given by the formula:\n",
    "C = 2πr\n",
    "r = 0\n",
    "PI = 3.14159\n",
    "#Formula for the area of a circle given its radius\n",
    "C = 2PIr\n",
    "#Get the radius from the user\n",
    "r = float(input(\"Please enter the circle's radius: \"))\n",
    "#Print the circumference\n",
    "print(\"Circumference is\", C)\n",
    "(a) The program does not produce the intended result. Why?\n",
    " Ans.-   Formumal for C should be written in python like this --> C = 2 * PI *r , also input for radius needs to taken before     calculating C\n",
    "(b) How can it be repaired so that it works correctly?\n",
    " \n",
    "Ans.-     PI = 3.13159\n",
    "     r = float(input(\"Please enter the circle's radius: \"))\n",
    "     C= 2 * PI * r\n",
    "     print(\"Circumference is\", C)\n"
   ]
  },
  {
   "cell_type": "markdown",
   "metadata": {},
   "source": [
    "37. What possible values can a Boolean expression have?\n",
    " "
   ]
  },
  {
   "cell_type": "markdown",
   "metadata": {},
   "source": [
    "Ans. True and False"
   ]
  },
  {
   "cell_type": "markdown",
   "metadata": {},
   "source": [
    "Q38. Where does the term Boolean originate?"
   ]
  },
  {
   "cell_type": "markdown",
   "metadata": {},
   "source": [
    "Ans. From the name of George Boole"
   ]
  },
  {
   "cell_type": "markdown",
   "metadata": {},
   "source": [
    "Q39. Which is an integer equivalent to True in Python?"
   ]
  },
  {
   "cell_type": "markdown",
   "metadata": {},
   "source": [
    "Ans. 1"
   ]
  },
  {
   "cell_type": "markdown",
   "metadata": {},
   "source": [
    "Q40. Which is the integer equivalent to False in Python?"
   ]
  },
  {
   "cell_type": "markdown",
   "metadata": {},
   "source": [
    "Ans. 0"
   ]
  },
  {
   "cell_type": "markdown",
   "metadata": {},
   "source": [
    "41. Is the value -16 interpreted as True or False?\n",
    "Ans - True"
   ]
  },
  {
   "cell_type": "markdown",
   "metadata": {},
   "source": [
    "42. Given the following definitions: x, y, z = 3, 5, 7\n",
    "evaluate the following Boolean expressions:\n",
    "a) x == 3 True i.e 1\n",
    "b) x < y  1\n",
    "c) x >= y 0 i.e false\n",
    "d) x <= y True\n",
    "e) x != y - 2 False i.e. 0\n",
    "f) x < 10 True i.e.1\n",
    "g) x >= 0 and x < 10 True\n",
    "h) x < 0 and x < 10 False\n",
    "i) x >= 0 and x < 2 False\n",
    "j) x < 0 or x < 10 True\n",
    "k) x > 0 or x < 10 True\n",
    "l) x < 0 or x > 10 True\n"
   ]
  },
  {
   "cell_type": "markdown",
   "metadata": {},
   "source": [
    "Q45. Express the following Boolean expressions in an equivalent form without the not operator. x and y are integers.\n",
    "a) not (x == y) \n",
    "b) not (x > y) -\n",
    "c) not (x < y) \n",
    "d) not (x >= y)\n",
    "e) not (x <= y) \n",
    "f) not (x != y) "
   ]
  },
  {
   "cell_type": "markdown",
   "metadata": {},
   "source": [
    "Ans.\n",
    "\n",
    "a) not (x == y) --> X!=y\n",
    "\n",
    "b) not (x > y) --> x<y\n",
    "\n",
    "c) not (x < y) --> x>y \n",
    "\n",
    "d) not (x >= y) --> x < y\n",
    "\n",
    "e) not (x <= y) --> x > y\n",
    "\n",
    "f) not (x != y) --> x == y"
   ]
  },
  {
   "cell_type": "markdown",
   "metadata": {},
   "source": [
    "Q46. What is the simplest tautology?"
   ]
  },
  {
   "cell_type": "markdown",
   "metadata": {},
   "source": [
    "Ans. A tautology is a formula which is \"always true\" --- that is, it is true for every assignment of truth values to its simple components. You can think of a tautology as a rule of logic."
   ]
  },
  {
   "cell_type": "markdown",
   "metadata": {},
   "source": [
    "47. What is the simplest contradiction?"
   ]
  },
  {
   "cell_type": "markdown",
   "metadata": {},
   "source": [
    "Ans. The opposite of a tautology is a contradiction, a formula which is \"always false\". In other words, a contradiction is false for every assignment of truth values to its simple components."
   ]
  },
  {
   "cell_type": "markdown",
   "metadata": {},
   "source": [
    "Q48. Write a Python program that requests an integer value from the user. If the value is between 1 and 100 inclusive, print ”OK;” otherwise, do not print anything."
   ]
  },
  {
   "cell_type": "markdown",
   "metadata": {},
   "source": [
    "Ans.\n",
    "x = int(input(\"Number\"))\n",
    "if x> 0 and x <= 100:\n",
    "    print(\"OK\")"
   ]
  },
  {
   "cell_type": "markdown",
   "metadata": {},
   "source": [
    "Q49. Write a Python program that requests an integer value from the user. If the value is between 1 and 100 inclusive, print ”OK;” otherwise, print ”Out of range.”"
   ]
  },
  {
   "cell_type": "code",
   "execution_count": null,
   "metadata": {},
   "outputs": [],
   "source": [
    "Ans.\n",
    "x = int(input(\"Number\"))\n",
    "if x> 0 and x <= 100:\n",
    "    print(\"OK\")\n",
    "else:\n",
    "     print(\"Out of Range\")"
   ]
  },
  {
   "cell_type": "markdown",
   "metadata": {},
   "source": [
    "50. Write a Python program that allows an user to type in an English day of the week (Sunday, Monday, etc.). The program should print the no. of the day as sunday considered day 1."
   ]
  },
  {
   "cell_type": "code",
   "execution_count": 164,
   "metadata": {},
   "outputs": [
    {
     "name": "stdout",
     "output_type": "stream",
     "text": [
      " Choose a DaySunday\n",
      "1\n"
     ]
    }
   ],
   "source": [
    "day = input(\" Choose a Day\")\n",
    "ex = {\"Sunday\":1, \"Monday\":2, \"Tuesday\":3, \"Wednesday\":4, \"Thursday\":5, \"Friday\":6, \"Saturday\":7}\n",
    "print(ex[day])\n"
   ]
  },
  {
   "cell_type": "code",
   "execution_count": null,
   "metadata": {},
   "outputs": [],
   "source": [
    "51.Consider the followin g Python code fragment:\n",
    "# i, j, and k are numbers\n",
    "if i < j:\n",
    "    \n",
    "    if j < k:\n",
    "        i = j\n",
    "\n",
    "else:\n",
    "\n",
    "      j = k\n",
    "else:\n",
    "if j > k:\n",
    "    j = i\n",
    "\n",
    "else:\n",
    "    i = k\n",
    "print(\"i =\", i, \" j =\", j, \" k =\", k)\n",
    "What will the code print if the variables i, j, and k have the following values?\n",
    "a) i is 3, j is 5, and k is 7\n",
    "b) i is 3, j is 7, and k is 5\n",
    "c) i is 5, j is 3, and k is 7\n",
    "d) i is 5, j is 7, and k is 3\n",
    "e) i is 7, j is 3, and k is 5\n",
    "Ans.. IndentationError: expected an indented block"
   ]
  },
  {
   "cell_type": "markdown",
   "metadata": {},
   "source": [
    "Ans.. IndentationError: expected an indented block\n",
    "\n",
    "IF we correct the program the O/P will be,\n",
    "\n",
    "a) i is 3, j is 5, and k is 7 --> i = 5  j = 5  k = 7\n",
    "\n",
    "b) i is 3, j is 7, and k is 5 --> \n",
    "\n",
    "i = 3  j = 5  k = 5\n",
    "\n",
    "c) i is 5, j is 3, and k is 7 --> \n",
    "\n",
    "i = 7  j = 3  k = 7\n",
    "\n",
    "d) i is 5, j is 7, and k is 3 --> \n",
    "\n",
    "i = 5  j = 3  k = 3\n",
    "\n",
    "e) i is 7, j is 3, and k is 5 --> i = 5  j = 3  k = 5"
   ]
  },
  {
   "cell_type": "markdown",
   "metadata": {},
   "source": [
    "52. Consider the following Python program that prints one line of text:\n",
    "val = int(input())\n",
    "if val < 10:\n",
    "   if val != 5:\n",
    "\n",
    "            print(\"wow \", end='')\n",
    "\n",
    "   else:\n",
    "\n",
    "            val += 1\n",
    "else:\n",
    "  if val == 17:\n",
    "\n",
    "            val += 10\n",
    "\n",
    "   else:\n",
    "\n",
    "            print(\"whoa \", end='')\n",
    "print(val)\n",
    "What will the program print if the user provides the following input?\n",
    "a) 3\n",
    "b) 21\n",
    "c) 5\n",
    "d) 17\n",
    "e) -5\n"
   ]
  },
  {
   "cell_type": "markdown",
   "metadata": {},
   "source": [
    "Ans.\n",
    "a) 3 --> \n",
    "wow 3\n",
    "\n",
    "b) 21 -->\n",
    "whoa 21\n",
    "\n",
    "c) 5 --> \n",
    "6\n",
    "d) 17 --> \n",
    "27\n",
    "e) -5 -->\n",
    "wow -5"
   ]
  },
  {
   "cell_type": "markdown",
   "metadata": {},
   "source": [
    "Q54. Write a Python program that requests five integer values from the user. It then prints the maximum and minimum values entered. If the user enters the values 3, 2, 5, 0, and 1, the program would indicate that 5 is the maximum and 0 is the minimum. Your program should handle ties properly; for example, if the user enters 2, 4, 2, 3 and 3, the program should report 2 as the minimum and 4 as maximum.\n"
   ]
  },
  {
   "cell_type": "code",
   "execution_count": null,
   "metadata": {},
   "outputs": [],
   "source": [
    "a = [int(input()), int(input()), int(input()), int(input()), int(input())]\n",
    "\n",
    "b= max(a)\n",
    "c = min(a)\n",
    "print(\"max number is \" b)\n",
    "print(\"min number is\" c)\n"
   ]
  },
  {
   "cell_type": "markdown",
   "metadata": {},
   "source": [
    "Q55. Write a Python program that requests five integer values from the user. It then prints one of two things: if any of the values entered are duplicates, it prints \"DUPLICATES\"; otherwise, it prints \"ALL UNIQUE\".\n"
   ]
  },
  {
   "cell_type": "code",
   "execution_count": null,
   "metadata": {},
   "outputs": [],
   "source": [
    "a = [int(input()), int(input()), int(input()), int(input()), int(input())]\n",
    "\n",
    "myset = set(a)\n",
    "print(myset)\n",
    "new = list(myset)\n",
    "print(new)\n",
    "\n",
    "\n",
    "if len(new)== len(a):\n",
    "    \n",
    "    print(\"All UNIQUE\")\n",
    "else:\n",
    "    print(\"DUPLICATES\")"
   ]
  },
  {
   "cell_type": "markdown",
   "metadata": {},
   "source": [
    "57. How many asterisks does the following code fragment print?\n",
    "a = 0\n",
    "while a < 100:\n",
    "print('*', end='')\n",
    "print()\n",
    "Ans--> Infite loop"
   ]
  },
  {
   "cell_type": "markdown",
   "metadata": {},
   "source": [
    "58. How many asterisks does the following code fragment print?\n",
    "a = 0\n",
    "while a < 100:\n",
    "b = 0\n",
    "\n",
    "while b < 55:\n",
    "\n",
    "    print('*', end='')\n",
    "\n",
    "    b += 1\n",
    "\n",
    "print()\n",
    "\n",
    "a += 1\n",
    "\n",
    "\n",
    "Ans -- 5600"
   ]
  },
  {
   "cell_type": "markdown",
   "metadata": {},
   "source": [
    "61. How many asterisks does the following code fragment print?\n",
    "a = 0\n",
    "while a < 100:\n",
    "if a % 5 == 0:\n",
    "\n",
    "    print('*', end='')\n",
    "\n",
    "a += 1\n",
    "print()\n",
    "\n",
    "Ans. 20"
   ]
  },
  {
   "cell_type": "markdown",
   "metadata": {},
   "source": [
    "62. How many asterisks does the following code fragment print?\n",
    "a = 0\n",
    "while a < 100:\n",
    "b = 0\n",
    "\n",
    "while b < 40:\n",
    "\n",
    "    if (a + b) % 2 == 0:\n",
    "\n",
    "          print('*', end='')\n",
    "\n",
    "    b += 1\n",
    "\n",
    "print()\n",
    "\n",
    "a += 1\n",
    "\n",
    "\n",
    "Ans. 2142"
   ]
  },
  {
   "cell_type": "markdown",
   "metadata": {},
   "source": [
    "65. What is the minimum number of arguments acceptable to the range expression?\n",
    "Ans -> 1"
   ]
  },
  {
   "cell_type": "markdown",
   "metadata": {},
   "source": [
    "66. What is the maximum number of arguments acceptable to the range expression?\n",
    "Ans --> 3"
   ]
  },
  {
   "cell_type": "markdown",
   "metadata": {},
   "source": [
    "67. Provide the exact sequence of integers specified by each of the following range expressions.\n",
    "a) range(5) -> 0,1,2,3,4\n",
    "b) range(5, 10) -> 5,6,7,8,9\n",
    "c) range(5, 20, 3) - 5, 8, 11, 14, 17\n",
    "d) range(20, 5, -1) --> 20, 19, 18, 17, 16, 15, 14, 13, 12, 11, 10, 9, 8, 7, 6\n",
    "e) range(20, 5, -3) --> 20, 17, 14, 11, 8\n",
    "f) range(10, 5) --> nothing\n",
    "g) range(0) --> Nothing\n",
    "h) range(10, 101, 10) --> 10, 20, 30, 40, 50, 60, 70, 80, 90, 100\n",
    "i) range(10, -1, -1) --> 10, 9, 8, 7, 6, 5, 4, 3, 2, 1, 0\n",
    "j) range(-3, 4) --> -3,-2,-1,0,1,2,3\n",
    "k) range(0, 10, 1) --> 1,2,3,4,5,6,7,8,9"
   ]
  },
  {
   "cell_type": "markdown",
   "metadata": {},
   "source": [
    "68. What is a shorter way to express range(0, 5, 1)?\n",
    "Ans - range(5)"
   ]
  },
  {
   "cell_type": "markdown",
   "metadata": {},
   "source": [
    "69. Provide an equivalent Python range expression for each of the following integer sequences.\n",
    "a) 1,2,3,4,5 --> range(5)\n",
    "b) 5,4,3,2,1 --> range(5,0,-1)\n",
    "c) 5,10,15,20,25,30 --> range(5,31,5)\n",
    "d) 30,25,20,15,10,5 --> range(30,4,-5)\n",
    "e) −3,−2,−1,0,1,2,3 --> range(-3,4)\n",
    "f) 3,2,1,0,−1,−2,−3 --> range(3,-4,-1)\n",
    "g) −50,−40,−30,−20,−10 --> (-50,-10,10)\n",
    "h) Empty sequence --> range(0)\n"
   ]
  },
  {
   "cell_type": "markdown",
   "metadata": {},
   "source": [
    "70. If x is bound to the integer value 2, what integer sequence does range(x, 10*x, x) represent?\n",
    "Ans--> 2, 4, 6, 8, 10, 12, 14, 16, 18"
   ]
  },
  {
   "cell_type": "markdown",
   "metadata": {},
   "source": [
    "71. If x is bound to the integer value 2 and y is bound to the integer 5, what integer sequence does range(x, x + y) represent?\n",
    "Ans. --> 2,3,4,5,6"
   ]
  },
  {
   "cell_type": "markdown",
   "metadata": {},
   "source": [
    "72. Is it possible to represent the following sequence with a Python range expression: 1,−1,2,−2,3,−3,4,−4?\n",
    "Ans. --> No"
   ]
  },
  {
   "cell_type": "markdown",
   "metadata": {},
   "source": [
    "73. How many asterisks does the following code fragment print?\n",
    "for a in range(100):\n",
    "print('*', end='')\n",
    "print()\n",
    "\n",
    "Ans. -> 100"
   ]
  },
  {
   "cell_type": "markdown",
   "metadata": {},
   "source": [
    "74. How many asterisks does the following code fragment print?\n",
    "for a in range(20, 100, 5):\n",
    "    print('*', end='')\n",
    "print()\n",
    "Ans. -> 16"
   ]
  },
  {
   "cell_type": "code",
   "execution_count": null,
   "metadata": {},
   "outputs": [],
   "source": [
    "Q75. How many asterisks does the following code fragment print?\n",
    "for a in range(100, 0, -2):\n",
    "    print('*', end='')\n",
    "print()\n",
    "Ans- 51"
   ]
  },
  {
   "cell_type": "markdown",
   "metadata": {},
   "source": [
    "76. How many asterisks does the following code fragment print?\n",
    "for a in range(1, 1):\n",
    "print('*', end='')\n",
    "print()\n",
    "Ans-> Blank"
   ]
  },
  {
   "cell_type": "markdown",
   "metadata": {},
   "source": [
    "77. How many asterisks does the following code fragment print?\n",
    "for a in range(-100, 100):\n",
    "print('*', end='')\n",
    "print()\n",
    "Ans-->  200"
   ]
  },
  {
   "cell_type": "markdown",
   "metadata": {},
   "source": [
    "78. How many asterisks does the following code fragment print?\n",
    "for a in range(-100, 100, 10):\n",
    "print('*', end='')\n",
    "print()\n",
    "Ans--> 20"
   ]
  },
  {
   "cell_type": "markdown",
   "metadata": {},
   "source": [
    "79. Rewrite the code in the previous question so it uses a while instead of a for. Your code should behave identically.\n"
   ]
  },
  {
   "cell_type": "code",
   "execution_count": null,
   "metadata": {},
   "outputs": [],
   "source": [
    "i=-100\n",
    "while i<100:\n",
    "    print(\"*\")\n",
    "    i+=1"
   ]
  },
  {
   "cell_type": "markdown",
   "metadata": {},
   "source": [
    "Q80. What is printed by the following code fragment?\n",
    "a = 0\n",
    "while a > 100:\n",
    " print(a)\n",
    "\n",
    "  a += 1\n",
    "print()\n",
    "Ans--> 0 to 99"
   ]
  },
  {
   "cell_type": "markdown",
   "metadata": {},
   "source": [
    "81. Rewrite the following code fragment using a break statement and eliminating the done variable. Your code should behave identically to this code fragment.\n",
    "done = False\n",
    "n, m = 0, 100\n",
    "while not done and n != m:\n",
    "n = int(input())\n",
    "\n",
    "if n < 0:\n",
    "\n",
    "  done = True\n",
    "print(\"n =\", n)\n"
   ]
  },
  {
   "cell_type": "code",
   "execution_count": null,
   "metadata": {},
   "outputs": [],
   "source": [
    "on it"
   ]
  },
  {
   "cell_type": "markdown",
   "metadata": {},
   "source": [
    "82. Rewrite the following code fragment so it eliminates the continue statement. Your new code’s logic should be simpler than the logic of this fragment.\n",
    "x = 5\n",
    "while x > 0:\n",
    "y = int(input())\n",
    "\n",
    "if y == 25:\n",
    "\n",
    "      continue\n",
    "\n",
    "x -= 1\n",
    "\n",
    "print('x =', x) "
   ]
  },
  {
   "cell_type": "markdown",
   "metadata": {},
   "source": [
    "Ans..->\n",
    "\n",
    "x = 5\n",
    "while x>0:\n",
    "    \n",
    "    \n",
    "    y = int(input())\n",
    "\n",
    "    if y == 25:\n",
    "\n",
    "          True\n",
    "\n",
    "    else:\n",
    "        x -= 1\n",
    "    \n",
    "\n",
    "print('x =', x) "
   ]
  },
  {
   "cell_type": "markdown",
   "metadata": {},
   "source": [
    "83. What is printed by the following code fragment?\n",
    "a = 0\n",
    "while a < 100:\n",
    "print(a, end=' ')\n",
    "\n",
    "a += 1\n",
    "print()\n",
    "\n",
    "Ans.. --> \n",
    "0 1 2 3 4 5 6 7 8 9 10 11 12 13 14 15 16 17 18 19 20 21 22 23 24 25 26 27 28 29 30 31 32 33 34 35 36 37 38 39 40 41 42 43 44 45 46 47 48 49 50 51 52 53 54 55 56 57 58 59 60 61 62 63 64 65 66 67 68 69 70 71 72 73 74 75 76 77 78 79 80 81 82 83 84 85 86 87 88 89 90 91 92 93 94 95 96 97 98 "
   ]
  },
  {
   "cell_type": "markdown",
   "metadata": {},
   "source": [
    "Q84. Write a Python program that allows the user to enter exactly twenty floating-point values. The program then prints the sum, average (arithmetic mean), maximum, and minimum of the values entered.\n"
   ]
  },
  {
   "cell_type": "markdown",
   "metadata": {},
   "source": [
    "inp = [float(input()),float(input()),float(input()),float(input()),float(input()),float(input()),float(input()),float(input()),float(input()),float(input()),float(input()),float(input()),float(input()),float(input()),float(input()),float(input()),float(input()),float(input()),float(input()),float(input())]\n",
    "\n",
    "s=sum(inp)\n",
    "avg = sum(inp)/len(inp)\n",
    "maxm= max(inp)\n",
    "minm = min(inp)\n",
    "print(\"sum is\", s, \"avg is\" avg, \"maximum is\", maxm,\"minimum is\" minm)"
   ]
  },
  {
   "cell_type": "markdown",
   "metadata": {},
   "source": [
    "85. Write a Python program that allows the user to enter any number of nonnegative floating-point values. The user terminates the input list with any negative value. The program then prints the sum, average (arithmetic mean), maximum, and minimum of the values entered. The terminating negative value is not used in the computations.\n"
   ]
  },
  {
   "cell_type": "markdown",
   "metadata": {},
   "source": [
    "\n",
    "i=0\n",
    "s=0\n",
    "new=[]\n",
    "while True:\n",
    "    number = int(input(\"Enter a number\"))\n",
    "    if number>0:\n",
    "        \n",
    "        s= s+number\n",
    "        i+=1\n",
    "        new.append(number)\n",
    "    else:\n",
    "        break\n",
    "    \n",
    "print(s)\n",
    "m=max(new)\n",
    "minimum=min(new)\n",
    "\n",
    "print(m,minimum)"
   ]
  },
  {
   "cell_type": "markdown",
   "metadata": {},
   "source": [
    "86. Write a program : for example, if the user enters 5 the program would print\n",
    "*\n",
    "**\n",
    "***\n",
    "****\n",
    "*****\n",
    "****\n",
    "***\n",
    "**\n",
    "*\n"
   ]
  },
  {
   "cell_type": "markdown",
   "metadata": {},
   "source": [
    "Done is assignment 2\n",
    "x= input()\n",
    "m=1\n",
    "y=0\n",
    "while  x<= 2* x:\n",
    "    name=int(x)\n",
    "    if m<=name:\n",
    "        print(\"*\" * m)\n",
    "        m+=1\n",
    "        y=m-1\n",
    "    else:\n",
    "        print(\"*\" * y)\n",
    "        y-=1"
   ]
  },
  {
   "cell_type": "markdown",
   "metadata": {},
   "source": [
    "Q88. Suppose you need to compute the square root of a number in a Python program. Would it be a good idea to write the code to perform the square root calculation? Why or why not?\n"
   ]
  },
  {
   "cell_type": "markdown",
   "metadata": {},
   "source": [
    "Ans->Yes it would be a good Idea. We can use it dynamically and it returns the square root so without storing it also we can print it"
   ]
  },
  {
   "cell_type": "markdown",
   "metadata": {},
   "source": [
    "Q89. Which of the following values could be produced by the call random.randrange(0, 100) function (circle all that apply)? 4.5 34 -1 100 0 99\n"
   ]
  },
  {
   "cell_type": "code",
   "execution_count": 3,
   "metadata": {},
   "outputs": [
    {
     "data": {
      "text/plain": [
       "28"
      ]
     },
     "execution_count": 3,
     "metadata": {},
     "output_type": "execute_result"
    }
   ],
   "source": [
    "import random\n",
    "random.randrange(0,100)\n",
    "#This function will produce random rumer so, we can not be assured about the output"
   ]
  },
  {
   "cell_type": "markdown",
   "metadata": {},
   "source": [
    "90. Classify each of the following expressions as legal or illegal. Each expression represents a call to a standard Python library function.\n",
    "a) math.sqrt(4.5)\n",
    "b) math.sqrt(4.5, 3.1)\n",
    "c) random.rand(4)\n",
    "d) random.seed()\n",
    "e) random.seed(-1)\n"
   ]
  },
  {
   "cell_type": "code",
   "execution_count": 8,
   "metadata": {},
   "outputs": [],
   "source": [
    "import math\n",
    "math.sqrt(4.5) #legal\n",
    "#math.sqrt(4.5,3.1) #illegal\n",
    "import random\n",
    "#random.rand(4) #illegal random does not have any attribute as rand\n",
    "random.seed() #legal\n",
    "random.seed(-1) #legal"
   ]
  },
  {
   "cell_type": "markdown",
   "metadata": {},
   "source": [
    "91. Write a guessing game program in which the computer chooses at random an integer in the range 1...100. The user’s goal is to guess the number in the least number of tries. For each incorrect guess the user provides, the computer provides feedback whether the user’s number is too high or too low.\n"
   ]
  },
  {
   "cell_type": "code",
   "execution_count": null,
   "metadata": {},
   "outputs": [],
   "source": [
    "a=random.randint(0,100)\n",
    "while True:\n",
    "    b = int(input(\"Guess the Number\"))\n",
    "    if a==b:\n",
    "        print(\"You guessed it right\")\n",
    "        break\n",
    "    else:\n",
    "        if b>a:\n",
    "            c=b-a\n",
    "            if c>40:\n",
    "                print(\"Your Guess is Too high, try a bit lower number\")\n",
    "        else:\n",
    "            c=a-b\n",
    "            if c<40:\n",
    "                print(\"Your guess is too low, try a bit higher numer\")\n",
    "        \n",
    "        continue\n",
    "\n",
    "\n"
   ]
  },
  {
   "cell_type": "markdown",
   "metadata": {},
   "source": [
    "Q92. Is the following a legal Python program?\n",
    "def proc(x):\n",
    "    return x + 2\n",
    "def proc(n):\n",
    "    return 2*n + 1\n",
    "def main():\n",
    "    x = proc(5)\n",
    "main()\n",
    "\n",
    "program is legal"
   ]
  },
  {
   "cell_type": "markdown",
   "metadata": {},
   "source": [
    "Q93. Is the following a legal Python program?\n",
    "def proc(x):\n",
    "    return x + 2\n",
    "def main():\n",
    "    x = proc(5)\n",
    "\n",
    "    y = proc(4)\n",
    "main()\n",
    "Ans.. \n",
    "Program is legal but there in return from the program"
   ]
  },
  {
   "cell_type": "markdown",
   "metadata": {},
   "source": [
    "95. Is the following a legal Python program?\n",
    "def proc(x, y):\n",
    "    return 2*x + y*y\n",
    "def main():\n",
    "    print(proc(5, 4))\n",
    "main()\n",
    "\n",
    "\n",
    "\n",
    "Ans.. Legal\n"
   ]
  },
  {
   "cell_type": "markdown",
   "metadata": {},
   "source": [
    "Q94 Is the following a legal Python program?\n",
    "def proc(x):\n",
    "    print(x + 2)\n",
    "def main():\n",
    "    x = proc(5)\n",
    "main()\n",
    "\n",
    "\n",
    "Ans.. -> Legal"
   ]
  },
  {
   "cell_type": "markdown",
   "metadata": {},
   "source": [
    "Q96. Is the following a legal Python program?\n",
    "def proc(x):\n",
    "    return 2*x\n",
    "def main():\n",
    "    print(proc(5, 4))\n",
    "main()\n",
    "\n",
    "Ans. Illegal -> proc function only accepts one argument"
   ]
  },
  {
   "cell_type": "markdown",
   "metadata": {},
   "source": [
    "97. Is the following a legal Python program?\n",
    "def proc(x):\n",
    "    print(2*x*x)\n",
    "def main():\n",
    "    proc(5)\n",
    "main()\n",
    "Ans  --> Legal"
   ]
  },
  {
   "cell_type": "markdown",
   "metadata": {},
   "source": [
    "Q98. The programmer was expecting the following program to print 200. What does it print instead? Why does it print what it does?\n",
    "def proc(x):\n",
    "    x = 2*x*x\n",
    "def main():\n",
    "num = 10\n",
    "\n",
    "proc(num)\n",
    "\n",
    "print(num)\n",
    "\n",
    "Ans--> Illegal\n",
    "\n",
    "\n"
   ]
  },
  {
   "cell_type": "markdown",
   "metadata": {},
   "source": [
    "Q99. Is the following program legal since the variable x is used in two different places (proc and main)? Why or why not?\n",
    "def proc(x):\n",
    "    return 2*x*x\n",
    "def main():\n",
    "    x = 10\n",
    "    print(proc(x))\n",
    "main()\n",
    "\n",
    "Ans---> Legal, there is no issue of using x in two different functions."
   ]
  },
  {
   "cell_type": "markdown",
   "metadata": {},
   "source": [
    "Q100. Complete the following distance function that computes the distance between two geometric points (x1, y1) and (x2, y2):\n",
    "def distance(x1, y1, x2, y2): ..."
   ]
  },
  {
   "cell_type": "code",
   "execution_count": null,
   "metadata": {},
   "outputs": [],
   "source": [
    "import math\n",
    "def distance(x1,y1,x2,y2):\n",
    "    d= math.sqrt(((x2-x1)**2)+((y2-y1)**2))"
   ]
  },
  {
   "cell_type": "markdown",
   "metadata": {},
   "source": [
    "Q101. What happens if a caller passes too many parameters to a function?"
   ]
  },
  {
   "cell_type": "markdown",
   "metadata": {},
   "source": [
    "Ans--> if we passes even a sigle parameter that what it accept, it will fail. But if a function accepts too many argument it is completly okay after after 3.7."
   ]
  },
  {
   "cell_type": "markdown",
   "metadata": {},
   "source": [
    "Q102. What happens if a caller passes too few parameters to a function?\n"
   ]
  },
  {
   "cell_type": "markdown",
   "metadata": {},
   "source": [
    "Ans. If a function works without any argument , we can call a function without any parameters"
   ]
  },
  {
   "cell_type": "markdown",
   "metadata": {},
   "source": [
    "Q103 What are the rules for naming a function in Python?"
   ]
  },
  {
   "cell_type": "markdown",
   "metadata": {},
   "source": [
    "The rules for naming a function are a lot like rules for naming a variable:\n",
    "\n",
    "They must start with a letter or an underscore: _.\n",
    "\n",
    "They should be lowercase.\n",
    "\n",
    "They can have numbers.\n",
    "\n",
    "They can be any length (within reason), but keep them short.\n",
    "\n",
    "They can’t be the same as a Python keyword. They can have the same name as an existing function (including a built-in), but avoid this for now."
   ]
  },
  {
   "cell_type": "markdown",
   "metadata": {},
   "source": [
    "Q104. Consider the following Python code:\n",
    "def next_int1():\n",
    "    cnt = 0\n",
    "    cnt += 1\n",
    "    return cnt\n",
    "\n",
    "def next_int2():\n",
    "    global_count = 0\n",
    "    global_count += 1\n",
    "    return global_count\n",
    "def main():\n",
    "    for i = range(0, 5):\n",
    "\n",
    "        print(next_int1(), next_int2())\n",
    "main()\n",
    "a) What does the program print? -->\n",
    "b) Which of the functions next_int1 and next_int2 is the best function for the intended purpose? Why?\n",
    "c) What is a better name for the function named next_int1?\n",
    "d) The next_int2 function works in this context, but why is it not a good implementation of function that always returns the next largest integer?\n"
   ]
  },
  {
   "cell_type": "markdown",
   "metadata": {},
   "source": [
    "Changed a bit of code to work with global variable\n",
    "def next_int1():\n",
    "    cnt = 0\n",
    "    cnt += 1\n",
    "    return cnt\n",
    "global_count = 0   \n",
    "def next_int2():\n",
    "    global global_count\n",
    "    global_count += 1\n",
    "    return global_count\n",
    "def main():\n",
    "   \n",
    "    for i in range(0, 5):\n",
    "\n",
    "        print(next_int1(), next_int2())\n",
    "main()\n",
    "\n",
    "\n",
    "\n"
   ]
  },
  {
   "cell_type": "markdown",
   "metadata": {},
   "source": [
    "a) What does the program print?\n",
    "1 1\n",
    "1 1\n",
    "1 1\n",
    "1 1\n",
    "1 1\n",
    "b) Which of the functions next_int1 and next_int2 is the best function for the intended purpose? Why?\n",
    "Ans--> next_int1 is the better function for the intended purpose here, as while using globle variable we have toextra cautious\n",
    "\n",
    "c) What is a better name for the function named next_int1?\n",
    "Ans-- > We can avoid using int keyword here\n",
    "d) The next_int2 function works in this context, but why is it not a good implementation of function that always returns the next largest integer?\n",
    "Ans. -> because it uses global variable"
   ]
  },
  {
   "cell_type": "markdown",
   "metadata": {},
   "source": [
    "105. When is the global statement required?\n",
    "Ans-> Whenever we need to reuse a statement in more than one function( in absolute neccessary conditons) and we are sure that there will be no conflict within the code "
   ]
  },
  {
   "cell_type": "code",
   "execution_count": 12,
   "metadata": {},
   "outputs": [
    {
     "name": "stdout",
     "output_type": "stream",
     "text": [
      "0\n",
      "4\n",
      "9\n",
      "9\n",
      "6\n",
      "6.6\n"
     ]
    }
   ],
   "source": [
    "#106. What does the following Python program print?\n",
    "def sum(m=0, n=0, r=0):\n",
    "    return m + n + r\n",
    "def main():\n",
    "    print(sum())\n",
    "\n",
    "    print(sum(4))\n",
    "\n",
    "    print(sum(4, 5))\n",
    "\n",
    "    print(sum(5, 4))\n",
    "\n",
    "    print(sum(1, 2, 3))\n",
    "\n",
    "    print(sum(2.6, 1.0, 3))\n",
    "main()\n",
    "\n",
    "#answer 0 \n",
    "#4\n",
    "#9\n",
    "#9\n",
    "#6\n",
    "#6.6"
   ]
  },
  {
   "cell_type": "markdown",
   "metadata": {},
   "source": [
    "107. Consider the following function:\n",
    "def proc(n):\n",
    "    if n < 1:\n",
    "\n",
    "        return 1\n",
    "\n",
    "    else:\n",
    "\n",
    "        return proc(n/2) + proc(n - 1)\n",
    "Evaluate each of the following expressions:\n",
    "a) proc(0)\n",
    "b) proc(1)\n",
    "c) proc(2)\n",
    "d) proc(3)\n",
    "e) proc(5)\n",
    "f) proc(10)\n"
   ]
  },
  {
   "cell_type": "code",
   "execution_count": 13,
   "metadata": {},
   "outputs": [],
   "source": [
    "def proc(n):\n",
    "    if n < 1:\n",
    "\n",
    "        return 1\n",
    "\n",
    "    else:\n",
    "\n",
    "        return proc(n/2) + proc(n - 1)"
   ]
  },
  {
   "cell_type": "code",
   "execution_count": 20,
   "metadata": {},
   "outputs": [],
   "source": [
    "#proc(0) --> 1\n",
    "#proc(1) -->2\n",
    "#proc(2) --> 4\n",
    "#proc(3) -->6\n",
    "#proc(5) --> 14\n",
    "#proc(10) -->60"
   ]
  },
  {
   "cell_type": "markdown",
   "metadata": {},
   "source": [
    "108. Rewrite the gcd function so that it implements Euclid’s method but uses iteration instead of recursion."
   ]
  },
  {
   "cell_type": "code",
   "execution_count": 7,
   "metadata": {},
   "outputs": [
    {
     "name": "stdout",
     "output_type": "stream",
     "text": [
      "give the first number67\n",
      "give the second number8\n",
      "gcd is 1\n"
     ]
    }
   ],
   "source": [
    "a=int(input(\"give the first number\"))\n",
    "\n",
    "b= int(input( \"give the second number\"))\n",
    "if a<b:\n",
    "    c=a\n",
    "    a=b\n",
    "    b=c\n",
    "for i in range(1,b):\n",
    "    if a!=0 or b!=0:\n",
    "        \n",
    "        if a>b:\n",
    "            \n",
    "            d=(a%b)\n",
    "            if d==0:\n",
    "                print(\"gcd is\",b)\n",
    "                break\n",
    "            else:\n",
    "                a=b\n",
    "                b=d\n",
    "            \n",
    "            \n",
    "            \n",
    "        else:\n",
    "            \n",
    "            e = (b%a)\n",
    "            if e==0:\n",
    "                print(\"gcd\",a)\n",
    "                break\n",
    "            else:                \n",
    "                b=a\n",
    "                a=d\n",
    "    else:\n",
    "        if a==0:\n",
    "            print(\"gcd is \", b)\n",
    "        else:\n",
    "            print(\"gcd is\",a)\n",
    "        break"
   ]
  },
  {
   "cell_type": "markdown",
   "metadata": {},
   "source": [
    "Q109. Classify the following functions as pure or impure. x is a global variable.\n",
    "a) def f1(m, n):\n",
    " return 2*m + 3*n\n",
    "Ans--> Pure \n",
    "\n",
    "b) def f2(n)\n",
    " return n - 2\n",
    "Ans-> Pure\n",
    "c) def f3(n):\n",
    " return n - x\n",
    "Ans-> Pure\n",
    "\n",
    "d) def f4(n):\n",
    " print(2*n)\n",
    " Pure\n",
    "e) def f5(n):\n",
    " m = int(input())\n",
    " return m * n\n",
    " Pure\n",
    "f) def f6(n):\n",
    " m = 2*n\n",
    " p = 2*m - 5\n",
    " return p - n\n",
    "\n",
    "Pure"
   ]
  },
  {
   "cell_type": "markdown",
   "metadata": {},
   "source": [
    "110. Consider the following very simple module, found in the file mymod.py:\n",
    "\"\"\" Provides the increment function, increment. \"\"\"\n",
    "def increment(x):\n",
    " \"\"\" Increments x by 1 and returns the result. \"\"\"\n",
    " return x + 1\n",
    "A programmer wishes to use the increment function from the mymod.py module. Indicate\n",
    "which, if any, of the following code snippets would work:\n",
    "a) import mymod\n",
    "print(increment(4)) # Supposed to print 5\n",
    "import from mymod import increment\n",
    "print(increment(4)) # Supposed to print 5\n",
    "b) import mymod\n",
    "print(mymod.increment(4)) # Supposed to print 5\n",
    "from mymod import increment\n",
    "print(mymod.increment(4)) # Supposed to print 5"
   ]
  },
  {
   "cell_type": "markdown",
   "metadata": {},
   "source": [
    "Ans. -> \n",
    "This would work\n",
    "from mymod import increment\n",
    "print(mymod.increment(4)) # Supposed to print 5"
   ]
  },
  {
   "cell_type": "markdown",
   "metadata": {},
   "source": [
    "111. Write a generator function named evens that enables the following code:\n",
    "for n in evens_less_than(12):\n",
    "print(n, end=' ')\n",
    "print()\n",
    "print 2 4 6 8 10 ; that is, all positive even numbers less than 12"
   ]
  },
  {
   "cell_type": "code",
   "execution_count": 10,
   "metadata": {},
   "outputs": [],
   "source": [
    "def evens_less_than(n):\n",
    "    for i in range(1,n):\n",
    "        if i%2 ==0:\n",
    "            yield i"
   ]
  },
  {
   "cell_type": "code",
   "execution_count": 11,
   "metadata": {},
   "outputs": [
    {
     "name": "stdout",
     "output_type": "stream",
     "text": [
      "2\n",
      "4\n",
      "6\n",
      "8\n",
      "10\n"
     ]
    }
   ],
   "source": [
    "for n in evens_less_than(12):\n",
    "    print(n)"
   ]
  },
  {
   "cell_type": "markdown",
   "metadata": {},
   "source": [
    "112. Functions as data TODO Consider the following function definition:\n",
    "def f():\n",
    "     pass\n",
    "Did not get what needs to be done for TODO."
   ]
  },
  {
   "cell_type": "markdown",
   "metadata": {},
   "source": [
    "114. Write a generator function named oscillate that enables the following code:\n",
    "for n in oscillate(-3, 5):\n",
    " print(n, end=' ')\n",
    "print()\n",
    "print -3 3 -2 2 -1 1 0 0 1 -1 2 -2 3 -3 4 -4"
   ]
  },
  {
   "cell_type": "code",
   "execution_count": 23,
   "metadata": {},
   "outputs": [],
   "source": [
    "def oscillate(a,b):\n",
    "    for i in range (a,b):\n",
    "        yield i\n",
    "        yield i*-1\n",
    "        \n",
    "    "
   ]
  },
  {
   "cell_type": "code",
   "execution_count": 24,
   "metadata": {},
   "outputs": [
    {
     "name": "stdout",
     "output_type": "stream",
     "text": [
      "-3 3 -2 2 -1 1 0 0 1 -1 2 -2 3 -3 4 -4 "
     ]
    }
   ],
   "source": [
    "for n in oscillate(-3, 5):\n",
    "     print(n, end=' ')"
   ]
  },
  {
   "cell_type": "markdown",
   "metadata": {},
   "source": [
    "117. What is the difference between a class and an object?"
   ]
  },
  {
   "cell_type": "markdown",
   "metadata": {},
   "source": [
    "Classes and objects from the essential part of Object-oriented programming, where a class can be considered as a construct which encapsulates a group of variables and methods; whereas, an object acts as member or instance of that class."
   ]
  },
  {
   "cell_type": "markdown",
   "metadata": {},
   "source": [
    "118. What are some other names for the term instance variable?"
   ]
  },
  {
   "cell_type": "markdown",
   "metadata": {},
   "source": [
    "Ans. --> data attributes"
   ]
  },
  {
   "cell_type": "markdown",
   "metadata": {},
   "source": [
    "Q119. What is another name for the term method?"
   ]
  },
  {
   "cell_type": "markdown",
   "metadata": {},
   "source": [
    "Ans. -> instance attribute"
   ]
  },
  {
   "cell_type": "markdown",
   "metadata": {},
   "source": [
    "120. What symbol associates an object with a method invocation?"
   ]
  },
  {
   "cell_type": "markdown",
   "metadata": {},
   "source": [
    "Ans-> oject.method()"
   ]
  },
  {
   "cell_type": "markdown",
   "metadata": {},
   "source": [
    "121. How does a method differs from a function?"
   ]
  },
  {
   "cell_type": "markdown",
   "metadata": {},
   "source": [
    "methods are called on an object but we can call funtion independently "
   ]
  },
  {
   "cell_type": "markdown",
   "metadata": {},
   "source": [
    "Q122. What method from the string class returns a new string with no leading or trailing\n",
    "whitespace?"
   ]
  },
  {
   "cell_type": "code",
   "execution_count": 28,
   "metadata": {},
   "outputs": [
    {
     "data": {
      "text/plain": [
       "'abd'"
      ]
     },
     "execution_count": 28,
     "metadata": {},
     "output_type": "execute_result"
    }
   ],
   "source": [
    "m=\" abd  \"\n",
    "m.strip()"
   ]
  },
  {
   "cell_type": "markdown",
   "metadata": {},
   "source": [
    "Q123. What function returns the length of its string argument?"
   ]
  },
  {
   "cell_type": "code",
   "execution_count": 29,
   "metadata": {},
   "outputs": [
    {
     "data": {
      "text/plain": [
       "5"
      ]
     },
     "execution_count": 29,
     "metadata": {},
     "output_type": "execute_result"
    }
   ],
   "source": [
    "x=\"abcde\"\n",
    "len(x)"
   ]
  },
  {
   "cell_type": "markdown",
   "metadata": {},
   "source": [
    "124. What type of object does the open function return?\n",
    "Ans-> _io.TextIOWrapper"
   ]
  },
  {
   "cell_type": "code",
   "execution_count": 48,
   "metadata": {},
   "outputs": [
    {
     "data": {
      "text/plain": [
       "_io.TextIOWrapper"
      ]
     },
     "execution_count": 48,
     "metadata": {},
     "output_type": "execute_result"
    }
   ],
   "source": [
    "f=open(r\"untitled.txt\",\"w+\")\n",
    "type(f)"
   ]
  },
  {
   "cell_type": "markdown",
   "metadata": {},
   "source": [
    "Q125. What does the second parameter of the open function represent?"
   ]
  },
  {
   "cell_type": "markdown",
   "metadata": {},
   "source": [
    "Ans-> the mode or permission for the file it is opening "
   ]
  },
  {
   "cell_type": "markdown",
   "metadata": {},
   "source": [
    "126. Write a program that stores the first 100 integers to a text file named numbers.txt.\n",
    "Each number should appear on a line all by itself."
   ]
  },
  {
   "cell_type": "code",
   "execution_count": 59,
   "metadata": {},
   "outputs": [],
   "source": [
    "f=open(r\"untitled.txt\",\"w+\")\n",
    "for i in range(1,100):\n",
    "    f.write(str(i)+'\\n')\n",
    "    \n",
    "\n",
    "f.close()"
   ]
  },
  {
   "cell_type": "markdown",
   "metadata": {},
   "source": [
    "127. Complete the following function that reads a collection of integers from a text file\n",
    "named numbers.txt. Each number in the file appears on a line all by itself. The\n",
    "function accepts a single parameter, a string text file name. The function returns the\n",
    "sum of the integers in the file.\n",
    "def sumfile(filename):\n",
    "#Add your code here . . "
   ]
  },
  {
   "cell_type": "code",
   "execution_count": 60,
   "metadata": {},
   "outputs": [],
   "source": [
    "def sumfile(filename):\n",
    "    sum=0\n",
    "    f=open(filename)\n",
    "    for i in f:\n",
    "        sum+=int(i)\n",
    "    return sum"
   ]
  },
  {
   "cell_type": "code",
   "execution_count": 61,
   "metadata": {},
   "outputs": [
    {
     "data": {
      "text/plain": [
       "4950"
      ]
     },
     "execution_count": 61,
     "metadata": {},
     "output_type": "execute_result"
    }
   ],
   "source": [
    "sumfile(\"untitled.txt\")"
   ]
  },
  {
   "cell_type": "markdown",
   "metadata": {},
   "source": [
    "Q128. Provide the syntactic sugar for each of the following methods of the Fraction class:\n",
    "(a) sub\n",
    "(b) eq\n",
    "(c) neg\n",
    "(d) gt\n"
   ]
  },
  {
   "cell_type": "markdown",
   "metadata": {},
   "source": [
    "129. How is using a Turtle object from Python’s Turtle graphics module different from using\n",
    "the free functions; for example, t.penup() versus penup()?"
   ]
  },
  {
   "cell_type": "markdown",
   "metadata": {},
   "source": [
    "penup is a component of Turtle so it should be used with t if turtle is importes as t\n"
   ]
  },
  {
   "cell_type": "markdown",
   "metadata": {},
   "source": [
    "Q130. Does Python permit a programmer to change one symbol in a string object? If so, how?"
   ]
  },
  {
   "cell_type": "markdown",
   "metadata": {},
   "source": [
    "Ans-> string object as immutable, we have to overwrite the variable it is stored in to change it. or we can convert string into a list and then change any character"
   ]
  },
  {
   "cell_type": "markdown",
   "metadata": {},
   "source": [
    "131. What would be the consequences if a turtle.Turtle object were immutable?"
   ]
  },
  {
   "cell_type": "markdown",
   "metadata": {},
   "source": [
    "132. In the context of programming, what is garbage?"
   ]
  },
  {
   "cell_type": "markdown",
   "metadata": {},
   "source": [
    "Ans-> Any Data, objects generated or any memory reserverd by program  which is not going to be used in future for any computation by the system or program running on it is garbage.\n"
   ]
  },
  {
   "cell_type": "markdown",
   "metadata": {},
   "source": [
    "133. What is garbage collection, and how does it work in Python?"
   ]
  },
  {
   "cell_type": "markdown",
   "metadata": {},
   "source": [
    "Ans->In computer science, garbage collection (GC) is a form of automatic memory management. The garbage collector, or just collector, attempts to reclaim garbage, or memory occupied by objects that are no longer in use by the program.\n",
    "\n",
    "In Python GC runs automatically but we can also invoke it manually."
   ]
  },
  {
   "cell_type": "markdown",
   "metadata": {},
   "source": [
    "134. Consider the following code:\n",
    "a = \"ABC\"\n",
    "b = a\n",
    "c = b\n",
    "a = \"XYZ\"\n",
    "a) At the end of this code’s execution what is the reference count for the string object\n",
    "\"ABC\"?\n",
    "b) At the end of this code’s execution is b an alias of a?\n",
    "c) At the end of this code’s execution is b an alias of c?\n"
   ]
  },
  {
   "cell_type": "markdown",
   "metadata": {},
   "source": [
    "Ans-> \n",
    "a) \n",
    "b) b is alias of \"abc\"\n",
    "c) b is alias of \"ABC\""
   ]
  },
  {
   "cell_type": "markdown",
   "metadata": {},
   "source": [
    "Q135. Can a Python list hold a mixture of integers and strings?"
   ]
  },
  {
   "cell_type": "markdown",
   "metadata": {},
   "source": [
    "Ans-> Yes"
   ]
  },
  {
   "cell_type": "markdown",
   "metadata": {},
   "source": [
    "136. What happens if you attempt to access an element of a list using a negative index?"
   ]
  },
  {
   "cell_type": "markdown",
   "metadata": {},
   "source": [
    "It will give out put in reverse order"
   ]
  },
  {
   "cell_type": "markdown",
   "metadata": {},
   "source": [
    "Q137. What Python statement produces a list containing the values 45, −3,\n",
    "16 and 8, in that order?\n"
   ]
  },
  {
   "cell_type": "markdown",
   "metadata": {},
   "source": [
    "Ans-> a=[45,-3,16,8]"
   ]
  },
  {
   "cell_type": "markdown",
   "metadata": {},
   "source": [
    "138. Given the statement\n",
    "lst = [10, -4, 11, 29]\n",
    "(a) What expression represents the very first element of lst?\n",
    "(b) What expression represents the very last element of lst?\n",
    "(c) What is lst[0]?\n",
    "(d) What is lst[3]?\n",
    "(e) What is lst[1]?\n",
    "(f) What is lst[-1]?\n",
    "(g) What is lst[-4]?\n",
    "(h) Is the expression lst[3.0] legal or illegal?"
   ]
  },
  {
   "cell_type": "markdown",
   "metadata": {},
   "source": [
    "Ans-> a) lst[0]\n",
    "b) lst[-1]\n",
    "c) 10\n",
    "d) 29\n",
    "e) -4\n",
    "f) 29\n",
    "g) 10\n",
    "h) illegal\n"
   ]
  },
  {
   "cell_type": "markdown",
   "metadata": {},
   "source": [
    "140. What function returns the number of elements in a list?"
   ]
  },
  {
   "cell_type": "markdown",
   "metadata": {},
   "source": [
    "Ans -> len()"
   ]
  },
  {
   "cell_type": "markdown",
   "metadata": {},
   "source": [
    "Q141. What expression represents the empty list?"
   ]
  },
  {
   "cell_type": "markdown",
   "metadata": {},
   "source": [
    "Ans-> [] or 0"
   ]
  },
  {
   "cell_type": "markdown",
   "metadata": {},
   "source": [
    "142. Given the list\n",
    "lst = [20, 1, -34, 40, -8, 60, 1, 3]\n",
    "evaluate the following expressions:\n",
    "(a) lst\n",
    "(b) lst[0:3]\n",
    "(c) lst[4:8]\n",
    "(d) lst[4:33]\n",
    "(e) lst[-5:-3]\n",
    "(f) lst[-22:3]\n",
    "(g) lst[4:]\n",
    "(h) lst[:]\n",
    "(i) lst[:4]\n",
    "(j) lst[1:5]\n",
    "(k) -34 in lst\n",
    "(l) -34 not in lst\n",
    "(m) len(lst)\n"
   ]
  },
  {
   "cell_type": "markdown",
   "metadata": {},
   "source": [
    "Ans->\n",
    "\n",
    "lst = [20, 1, -34, 40, -8, 60, 1, 3]\n",
    "evaluate the following expressions:\n",
    "(a) lst -> [20, 1, -34, 40, -8, 60, 1, 3]\n",
    "(b) lst[0:3] -> [20, 1, -34]\n",
    "(c) lst[4:8] -> [-8, 60, 1, 3]\n",
    "(d) lst[4:33] -> [-8, 60, 1, 3]\n",
    "(e) lst[-5:-3] -> [40 , -8] \n",
    "(f) lst[-22:3] -> [20, 1, -34]\n",
    "(g) lst[4:] -> [-8, 60, 1, 3]\n",
    "(h) lst[:] -> [20, 1, -34, 40, -8, 60, 1, 3]\n",
    "(i) lst[:4] ->  [20, 1, -34, 40]\n",
    "(j) lst[1:5] -> [1, -34, 40, -8]\n",
    "(k) -34 in lst -> true\n",
    "(l) -34 not in lst -> fale\n",
    "(m) len(lst) -> 8\n"
   ]
  },
  {
   "cell_type": "markdown",
   "metadata": {},
   "source": [
    "143. Write the list represented by each of the following expressions.\n",
    "(a) [8] * 4\n",
    "(b) 6 * [2, 7]\n",
    "(c) [1, 2, 3] + ['a', 'b', 'c', 'd']\n",
    "(d) 3 * [1, 2] + [4, 2]\n",
    "(e) 3 * ([1, 2] + [4, 2])\n"
   ]
  },
  {
   "cell_type": "markdown",
   "metadata": {},
   "source": [
    "a) [8,8,8,8]\n",
    "\n",
    "b) [2, 7, 2, 7, 2, 7, 2, 7, 2, 7, 2, 7]\n",
    "\n",
    "c) [1, 2, 3, 'a', 'b', 'c', 'd']\n",
    "\n",
    "d) [1, 2, 1, 2, 1, 2, 4, 2]\n",
    "\n",
    "e) [1, 2, 4, 2, 1, 2, 4, 2, 1, 2, 4, 2]"
   ]
  },
  {
   "cell_type": "markdown",
   "metadata": {},
   "source": [
    "Q144. Write the list represented by each of the following list comprehension expressions.\n",
    "(a) [x + 1 for x in [2, 4, 6, 8]] Ans--> [3, 5, 7, 9]\n",
    "(b) [10*x for x in range(5, 10)] Ans-> [ 50,60,70,80,90]\n",
    "(c) [x for x in range(10, 21) if x % 3 == 0] Ans-> [12,15,18]\n",
    "(d) [(x, y) for x in range(3) for y in range(4)] Ans-> [(0, 0),\n",
    " (0, 1),\n",
    " (0, 2),\n",
    " (0, 3),\n",
    " (1, 0),\n",
    " (1, 1),\n",
    " (1, 2),\n",
    " (1, 3),\n",
    " (2, 0),\n",
    " (2, 1),\n",
    " (2, 2),\n",
    " (2, 3)]\n",
    "(e) [(x, y) for x in range(3) for y in range(4) if (x + y) % 2 == 0] Ans--> \n",
    "[(0, 0), (0, 2), (1, 1), (1, 3), (2, 0), (2, 2)]"
   ]
  },
  {
   "cell_type": "code",
   "execution_count": null,
   "metadata": {},
   "outputs": [],
   "source": [
    "Q145. Provide a list comprehension expression for each of the following lists.\n",
    "(a) [1, 4, 9, 16, 25]\n",
    "(b) [0.25, 0.5, 0.75, 1.0, 1.25. 1.5]\n",
    "(c) [('a', 0), ('a', 1), ('a', 2), ('b', 0), ('b', 1), ('b', 2)]"
   ]
  },
  {
   "cell_type": "code",
   "execution_count": 79,
   "metadata": {},
   "outputs": [
    {
     "data": {
      "text/plain": [
       "[('a', 0), ('a', 1), ('a', 2), ('b', 0), ('b', 1), ('b', 2)]"
      ]
     },
     "execution_count": 79,
     "metadata": {},
     "output_type": "execute_result"
    }
   ],
   "source": [
    "[x**2 for x in range(1,6)]\n",
    "[x/4 for x in range (1,6)]\n",
    "[(x,y) for x in ['a','b'] for y in range(3)]"
   ]
  },
  {
   "cell_type": "markdown",
   "metadata": {},
   "source": [
    "146. If lst is a list, what expression indicates whether or not x is a member of lst?"
   ]
  },
  {
   "cell_type": "code",
   "execution_count": null,
   "metadata": {},
   "outputs": [],
   "source": []
  },
  {
   "cell_type": "markdown",
   "metadata": {},
   "source": [
    "147. What does reversed do?"
   ]
  },
  {
   "cell_type": "markdown",
   "metadata": {},
   "source": [
    "Ans-> reversed() method returns an iterator that accesses the given sequence in the reverse order. Returns : returns an iterator that accesses the given sequence in the reverse order."
   ]
  },
  {
   "cell_type": "markdown",
   "metadata": {},
   "source": [
    "148. Complete the following function that adds up all the positive values\n",
    "in a list of integers. For example, if list a contains the elements\n",
    "3,−3,5,2,−1, and 2, the call sum_positive(a) would evaluate to 12,\n",
    "since 3+5+2+2 = 12. The function returns zero if the list is empty.\n",
    "def sum_positive(a):\n",
    " #Add your code..."
   ]
  },
  {
   "cell_type": "code",
   "execution_count": 80,
   "metadata": {},
   "outputs": [],
   "source": [
    "def sum_positive(lst):\n",
    "    sum=0\n",
    "    for x in lst:\n",
    "        if x>0:\n",
    "            sum+=x\n",
    "    return x"
   ]
  },
  {
   "cell_type": "code",
   "execution_count": 81,
   "metadata": {},
   "outputs": [
    {
     "data": {
      "text/plain": [
       "5"
      ]
     },
     "execution_count": 81,
     "metadata": {},
     "output_type": "execute_result"
    }
   ],
   "source": [
    "s=[-3,2,-2,5]\n",
    "sum_positive(s)"
   ]
  },
  {
   "cell_type": "markdown",
   "metadata": {},
   "source": [
    "Q149. Complete the following function that counts the even numbers in a\n",
    "list of integers. For example, if list a contains the elements\n",
    "3,5,4,−1, and 0, the call count_evens(a) would evaluate to 2, since a\n",
    "contains two even numbers: 4 and 0. The function returns zero if the\n",
    "list is empty. The function does not affect the contents of the list.\n",
    "def count_evens(lst):\n",
    " #Add your code..."
   ]
  },
  {
   "cell_type": "code",
   "execution_count": 82,
   "metadata": {},
   "outputs": [],
   "source": [
    "def sum_even(lst):\n",
    "    sum=0\n",
    "    for x in lst:\n",
    "        if x%2==0:\n",
    "            sum+=x\n",
    "    return x"
   ]
  },
  {
   "cell_type": "code",
   "execution_count": 83,
   "metadata": {},
   "outputs": [
    {
     "data": {
      "text/plain": [
       "6"
      ]
     },
     "execution_count": 83,
     "metadata": {},
     "output_type": "execute_result"
    }
   ],
   "source": [
    "lst=[1,2,3,4,5,6]\n",
    "sum_even(lst)"
   ]
  },
  {
   "cell_type": "markdown",
   "metadata": {},
   "source": [
    "150. Write a function named print_big_enough that accepts two parameters, a list of\n",
    "numbers and a number. The function should print, in order, all the elements in the list\n",
    "that are at least as large as the second parameter."
   ]
  },
  {
   "cell_type": "code",
   "execution_count": 84,
   "metadata": {},
   "outputs": [],
   "source": [
    "def enough(lst,n):\n",
    "    lst1=[]\n",
    "    for x in lst:\n",
    "        if x>=n:\n",
    "            lst1.append(x)\n",
    "    return lst1"
   ]
  },
  {
   "cell_type": "code",
   "execution_count": 86,
   "metadata": {},
   "outputs": [
    {
     "data": {
      "text/plain": [
       "1"
      ]
     },
     "execution_count": 86,
     "metadata": {},
     "output_type": "execute_result"
    }
   ],
   "source": [
    "enough(lst,4)\n",
    "min(lst)\n",
    "lst."
   ]
  },
  {
   "cell_type": "markdown",
   "metadata": {},
   "source": [
    "151. Write a function named next_number that accepts a list of integer values. All the\n",
    "elements in the list are unique, and all elements in the list are greater than or equal to\n",
    "one. (The caller must ensure that these conditions are met before passing the list to\n",
    "next_number.) The next_number function should return the smallest positive integer\n",
    "not in the list. (Note that 1 is the smallest positive integer.) As examples,\n",
    "• next_number([5, 3, 1]) would return 2\n",
    "• next_number([5, 4, 1, 2]) would return 3\n",
    "• next_number([2, 3]) would return 1\n",
    "• next_number([]) would return 1\n"
   ]
  },
  {
   "cell_type": "code",
   "execution_count": 112,
   "metadata": {},
   "outputs": [],
   "source": [
    "def next_number(lst):\n",
    "    a=min(lst)\n",
    "    if min(lst)>1:\n",
    "        return 1\n",
    "    else:\n",
    "        \n",
    "        lst.remove(a)\n",
    "        if min(lst)>a+1:\n",
    "            return a+1\n",
    "        else:\n",
    "            b=min(lst)\n",
    "            lst.remove(b)\n",
    "            lst.append(a)\n",
    "            return next_number(lst)"
   ]
  },
  {
   "cell_type": "code",
   "execution_count": 113,
   "metadata": {},
   "outputs": [
    {
     "data": {
      "text/plain": [
       "2"
      ]
     },
     "execution_count": 113,
     "metadata": {},
     "output_type": "execute_result"
    }
   ],
   "source": [
    "next_number([5,4,1,2])\n"
   ]
  },
  {
   "cell_type": "markdown",
   "metadata": {},
   "source": [
    "152. Write a function named reverse that reorders the contents of a list so they are reversed\n",
    "from their original order. a is a list. Note that your function must physically rearrange\n",
    "the elements within the list, not just print the elements in reverse order."
   ]
  },
  {
   "cell_type": "code",
   "execution_count": 133,
   "metadata": {},
   "outputs": [],
   "source": [
    "def reverse_store(lst):\n",
    "    s=[]\n",
    "    for i in range(1,(len(lst)+1)):\n",
    "        s.append(lst[-i])\n",
    "    lst=s\n",
    "    return lst"
   ]
  },
  {
   "cell_type": "code",
   "execution_count": 134,
   "metadata": {},
   "outputs": [
    {
     "data": {
      "text/plain": [
       "[5, 4, 3, 2, 1]"
      ]
     },
     "execution_count": 134,
     "metadata": {},
     "output_type": "execute_result"
    }
   ],
   "source": [
    "new_list1=[1,2,3,4,5]\n",
    "reverse_store(new_list1)"
   ]
  },
  {
   "cell_type": "markdown",
   "metadata": {},
   "source": [
    "153. Write a Python program that creates the matrix\n",
    "1 1 1 1 1 1 1 1 1\n",
    "1 1 1 1 1 1 1 1 1\n",
    "1 1 1 1 1 1 1 1 1\n",
    "1 1 1 1 1 1 1 1 1\n",
    "1 1 1 1 1 1 1 1 1\n",
    "1 1 1 1 1 1 1 1 1\n",
    "and assigns it to the variable m. Pretty print m to ensure the contents are correct. Next, reassign m[2][4] to\n",
    "0, and print m again to ensure your code modified the correct element.\n"
   ]
  },
  {
   "cell_type": "code",
   "execution_count": 143,
   "metadata": {},
   "outputs": [
    {
     "data": {
      "text/plain": [
       "[[1, 1, 1, 1, 1, 1],\n",
       " [1, 1, 1, 1, 1, 1],\n",
       " [1, 1, 1, 1, 1, 1],\n",
       " [1, 1, 1, 1, 1, 1],\n",
       " [1, 1, 1, 1, 1, 1],\n",
       " [1, 1, 1, 1, 1, 1],\n",
       " [1, 1, 1, 1, 1, 1],\n",
       " [1, 1, 1, 1, 1, 1],\n",
       " [1, 1, 1, 1, 1, 1]]"
      ]
     },
     "execution_count": 143,
     "metadata": {},
     "output_type": "execute_result"
    }
   ],
   "source": [
    "\n",
    "\n",
    "m=[[1 for i in range (0,6)] for j in range(0,9)]\n",
    "m"
   ]
  },
  {
   "cell_type": "markdown",
   "metadata": {},
   "source": [
    "Q154. Provide five different ways to create the list [1, 2, 3, 4, 5, 6, 7, 8, 9, 10] and assign it to\n",
    "the variable lst."
   ]
  },
  {
   "cell_type": "code",
   "execution_count": 155,
   "metadata": {},
   "outputs": [
    {
     "ename": "TypeError",
     "evalue": "'list' object is not callable",
     "output_type": "error",
     "traceback": [
      "\u001b[1;31m---------------------------------------------------------------------------\u001b[0m",
      "\u001b[1;31mTypeError\u001b[0m                                 Traceback (most recent call last)",
      "\u001b[1;32m<ipython-input-155-cee03feb9f12>\u001b[0m in \u001b[0;36m<module>\u001b[1;34m\u001b[0m\n\u001b[1;32m----> 1\u001b[1;33m \u001b[0mlst\u001b[0m \u001b[1;33m=\u001b[0m \u001b[0mlist\u001b[0m\u001b[1;33m(\u001b[0m\u001b[0mrange\u001b[0m\u001b[1;33m(\u001b[0m\u001b[1;36m1\u001b[0m\u001b[1;33m,\u001b[0m\u001b[1;36m11\u001b[0m\u001b[1;33m)\u001b[0m\u001b[1;33m)\u001b[0m\u001b[1;33m\u001b[0m\u001b[1;33m\u001b[0m\u001b[0m\n\u001b[0m\u001b[0;32m      2\u001b[0m \u001b[0mlst\u001b[0m\u001b[1;33m\u001b[0m\u001b[1;33m\u001b[0m\u001b[0m\n",
      "\u001b[1;31mTypeError\u001b[0m: 'list' object is not callable"
     ]
    }
   ],
   "source": [
    "lst=list(range(1,11))\n",
    "for i in range(1,11):\n",
    "    lst.append(i)\n",
    "lst1=[x for x in range(1,11)]\n",
    "lst=[1,2,3,4,5,6,7,8,9,10]"
   ]
  },
  {
   "cell_type": "markdown",
   "metadata": {},
   "source": [
    "Q155. In a square 2D list the number of rows equals the nnumber of columns. Write a function\n",
    "that accepts a square 2D list and returns True if the left to right contents of any row\n",
    "equals the top to bottom contents of any column. If no row matches any column, the\n",
    "function returns False."
   ]
  },
  {
   "cell_type": "code",
   "execution_count": null,
   "metadata": {},
   "outputs": [],
   "source": [
    "def match(lst2):\n",
    "    for x in lst2:\n",
    "        for y in x:\n",
    "            if \n",
    "            \n",
    "        "
   ]
  },
  {
   "cell_type": "markdown",
   "metadata": {},
   "source": [
    "156. We can represent a Tic-Tac-Toe board as a 3 × 3 grid in which each position can hold\n",
    "one of the following three strings: \"X\", \"O\", or \" \". Write a function named check_winner\n",
    "that accepts a 3 × 3 list as a parameter. If \"X\" appears in a winning Tic-Tac-Toe\n",
    "pattern, the function should return the string \"X\". If \"O\" appears in a winning\n",
    "Tic-Tac-Toe pattern, the function should return the string \"O\". If no winning pattern\n",
    "exists, the function should return the string \" \""
   ]
  },
  {
   "cell_type": "markdown",
   "metadata": {},
   "source": [
    "Q157. How are tuples different from lists?"
   ]
  },
  {
   "cell_type": "markdown",
   "metadata": {},
   "source": [
    "Ans-> Tuples are immutable but list are mutable"
   ]
  },
  {
   "cell_type": "markdown",
   "metadata": {},
   "source": [
    "Q158. How do tuples support the indexing operation ([]) differently from lists?"
   ]
  },
  {
   "cell_type": "markdown",
   "metadata": {},
   "source": [
    "it is the same"
   ]
  },
  {
   "cell_type": "markdown",
   "metadata": {},
   "source": [
    "Q159. Are tuples mutable or immutable?"
   ]
  },
  {
   "cell_type": "markdown",
   "metadata": {},
   "source": [
    "Ans-> immutable"
   ]
  },
  {
   "cell_type": "markdown",
   "metadata": {},
   "source": [
    "160. Are the elements in tuples ordered or unordered?"
   ]
  },
  {
   "cell_type": "markdown",
   "metadata": {},
   "source": [
    "Ordered"
   ]
  },
  {
   "cell_type": "markdown",
   "metadata": {},
   "source": [
    "Q161. Rewrite the last assignment statement in the following interactive sequence so that it\n",
    "behaves identically but uses tuple unpacking instead of tuple slicing.\n",
    "a = 1, 2, 3, 4, 5, 6, 7, 8\n",
    "a\n",
    "(1, 2, 3, 4, 5, 6, 7, 8)\n",
    "s = a[2:6]\n",
    "s\n",
    "(3, 4, 5, 6)"
   ]
  },
  {
   "cell_type": "code",
   "execution_count": 158,
   "metadata": {},
   "outputs": [
    {
     "data": {
      "text/plain": [
       "(3, 4, 5, 6)"
      ]
     },
     "execution_count": 158,
     "metadata": {},
     "output_type": "execute_result"
    }
   ],
   "source": [
    "a=(1, 2, 3, 4, 5, 6, 7, 8)\n",
    "(i,b,c,d,e,f,g,h)= a\n",
    "(c,d,e,f)"
   ]
  },
  {
   "cell_type": "markdown",
   "metadata": {},
   "source": [
    "Q162. Consider the tuple tpl defined as tpl = 7, 10, -3, 18, 6, 10\n",
    "Provide one assignment statement that uses tuple unpacking to assign x to the first element\n",
    "and y to the last element."
   ]
  },
  {
   "cell_type": "code",
   "execution_count": 161,
   "metadata": {},
   "outputs": [
    {
     "data": {
      "text/plain": [
       "7"
      ]
     },
     "execution_count": 161,
     "metadata": {},
     "output_type": "execute_result"
    }
   ],
   "source": [
    "tpl =(7, 10, -3, 18, 6, 10)\n",
    "(x,a,b,c,d,y)= tpl\n",
    "x"
   ]
  },
  {
   "cell_type": "markdown",
   "metadata": {},
   "source": [
    "Q163. Write a function named zero_sum that accepts any number of integer\n",
    "arguments. The function should return True if the sum of its\n",
    "arguments is zero; otherwise, it should return False. The call\n",
    "zero_sum(2, 3, -5), for example, would evaluate to True, since 2 + 3\n",
    "+ −5 = 0. On the other hand, zero_sum(2, 3, -10, 4) evaluates to\n",
    "False because 2 + 3 + − 10 + 4 = − 1 6= 0. zero_sum should return\n",
    "True when called with no arguments."
   ]
  },
  {
   "cell_type": "code",
   "execution_count": 162,
   "metadata": {},
   "outputs": [],
   "source": [
    "def zero_sum(*args):\n",
    "    s=0\n",
    "    for i in args:\n",
    "        s+=i\n",
    "    if s==0:\n",
    "        return True\n",
    "    else:\n",
    "        return false\n",
    "    \n",
    "        "
   ]
  },
  {
   "cell_type": "code",
   "execution_count": 163,
   "metadata": {},
   "outputs": [
    {
     "data": {
      "text/plain": [
       "True"
      ]
     },
     "execution_count": 163,
     "metadata": {},
     "output_type": "execute_result"
    }
   ],
   "source": [
    "zero_sum(1,-2,1)"
   ]
  },
  {
   "cell_type": "markdown",
   "metadata": {},
   "source": [
    "Q164. Why is a dictionary considered an associative container?"
   ]
  },
  {
   "cell_type": "markdown",
   "metadata": {},
   "source": [
    "They are called associative arrays since they associate a key with a value"
   ]
  },
  {
   "cell_type": "markdown",
   "metadata": {},
   "source": [
    "Q165. What statement assigns an empty dictionary to a variable named d?"
   ]
  },
  {
   "cell_type": "code",
   "execution_count": 165,
   "metadata": {},
   "outputs": [
    {
     "data": {
      "text/plain": [
       "{}"
      ]
     },
     "execution_count": 165,
     "metadata": {},
     "output_type": "execute_result"
    }
   ],
   "source": [
    "a={}\n"
   ]
  },
  {
   "cell_type": "markdown",
   "metadata": {},
   "source": [
    "Q166. If d refers to a dictionary, what expression represents the value associated with the key\n",
    "\"Fred\"?"
   ]
  },
  {
   "cell_type": "code",
   "execution_count": 170,
   "metadata": {},
   "outputs": [
    {
     "ename": "KeyError",
     "evalue": "'shred'",
     "output_type": "error",
     "traceback": [
      "\u001b[1;31m---------------------------------------------------------------------------\u001b[0m",
      "\u001b[1;31mKeyError\u001b[0m                                  Traceback (most recent call last)",
      "\u001b[1;32m<ipython-input-170-eeec4cdc2cd8>\u001b[0m in \u001b[0;36m<module>\u001b[1;34m\u001b[0m\n\u001b[0;32m      1\u001b[0m \u001b[0md\u001b[0m\u001b[1;33m=\u001b[0m\u001b[1;33m{\u001b[0m\u001b[1;34m'fred'\u001b[0m\u001b[1;33m:\u001b[0m\u001b[1;34m'game'\u001b[0m\u001b[1;33m}\u001b[0m\u001b[1;33m\u001b[0m\u001b[1;33m\u001b[0m\u001b[0m\n\u001b[1;32m----> 2\u001b[1;33m \u001b[0md\u001b[0m\u001b[1;33m[\u001b[0m\u001b[1;34m'shred'\u001b[0m\u001b[1;33m]\u001b[0m\u001b[1;33m\u001b[0m\u001b[1;33m\u001b[0m\u001b[0m\n\u001b[0m",
      "\u001b[1;31mKeyError\u001b[0m: 'shred'"
     ]
    }
   ],
   "source": [
    "d={'fred':'game'}\n",
    "d['fred']"
   ]
  },
  {
   "cell_type": "markdown",
   "metadata": {},
   "source": [
    "Q167. What happens when an executing program attempts to retrieve a value using a key that\n",
    "is not present in the dictionary?"
   ]
  },
  {
   "cell_type": "markdown",
   "metadata": {},
   "source": [
    "Key Error"
   ]
  },
  {
   "cell_type": "markdown",
   "metadata": {},
   "source": [
    "168. What happens when an executing program attempts to associate a value with a key\n",
    "that is not present in the dictionary?\n"
   ]
  },
  {
   "cell_type": "markdown",
   "metadata": {},
   "source": [
    "It will add the key:value in dictionary "
   ]
  },
  {
   "cell_type": "markdown",
   "metadata": {},
   "source": [
    "169. Are dictionaries mutable or immutable?"
   ]
  },
  {
   "cell_type": "markdown",
   "metadata": {},
   "source": [
    "Mutable"
   ]
  },
  {
   "cell_type": "markdown",
   "metadata": {},
   "source": [
    "170. Given the following dictionary:\n",
    "d = {3:0, 5:1, 10:1, 8:2, 15:4}\n",
    "Indicate what each of the following code fragments will print:\n",
    "(a) print(d) -->\n",
    "(b) for x in d:\n",
    "print(x)\n",
    "(c) for x in d.keys():\n",
    " print(x)\n",
    "(d) for x in d.values():\n",
    " print(x)\n"
   ]
  },
  {
   "cell_type": "code",
   "execution_count": 176,
   "metadata": {},
   "outputs": [
    {
     "name": "stdout",
     "output_type": "stream",
     "text": [
      "{3: 0, 5: 1, 10: 1, 8: 2, 15: 4}\n",
      "3\n",
      "5\n",
      "10\n",
      "8\n",
      "15\n",
      "3\n",
      "5\n",
      "10\n",
      "8\n",
      "15\n"
     ]
    }
   ],
   "source": [
    "d = {3:0, 5:1, 10:1, 8:2, 15:4}\n",
    "print(d) \n",
    "for x in d:\n",
    "    \n",
    "    print(x)\n",
    "for x in d.keys():\n",
    "     print(x)"
   ]
  },
  {
   "cell_type": "code",
   "execution_count": 177,
   "metadata": {},
   "outputs": [
    {
     "name": "stdout",
     "output_type": "stream",
     "text": [
      "0\n",
      "1\n",
      "1\n",
      "2\n",
      "4\n"
     ]
    }
   ],
   "source": [
    "for x in d.values():\n",
    "     print(x)"
   ]
  },
  {
   "cell_type": "markdown",
   "metadata": {},
   "source": [
    "172. Are the elements in dictionaries ordered or unordered?"
   ]
  },
  {
   "cell_type": "markdown",
   "metadata": {},
   "source": [
    "Unordered"
   ]
  },
  {
   "cell_type": "markdown",
   "metadata": {},
   "source": [
    "174. Explain why the statement A = {} does not create an empty set."
   ]
  },
  {
   "cell_type": "markdown",
   "metadata": {},
   "source": [
    "Because it creates a dictionary"
   ]
  },
  {
   "cell_type": "markdown",
   "metadata": {},
   "source": [
    "175. Provide the Python statement that assigns the variable A to the empty set."
   ]
  },
  {
   "cell_type": "code",
   "execution_count": 184,
   "metadata": {},
   "outputs": [
    {
     "data": {
      "text/plain": [
       "{'A'}"
      ]
     },
     "execution_count": 184,
     "metadata": {},
     "output_type": "execute_result"
    }
   ],
   "source": [
    "s=set()\n",
    "s.add('A')\n",
    "s"
   ]
  },
  {
   "cell_type": "markdown",
   "metadata": {},
   "source": [
    "176. Are sets mutable or immutable?"
   ]
  },
  {
   "cell_type": "markdown",
   "metadata": {},
   "source": [
    "Mutable"
   ]
  },
  {
   "cell_type": "code",
   "execution_count": null,
   "metadata": {},
   "outputs": [],
   "source": [
    "177. Given the following initialization statements:\n",
    "A = {20, 19, 2, 10, 7}\n",
    "B = {4, 10, 5, 6, 9, 7}\n",
    "C = {10, 19}\n",
    "evaluate the following expressions:\n",
    "(a) A --> {2, 7, 10, 19, 20}\n",
    "(b) 20 in A --> True\n",
    "(c) 20 not in A --> false\n",
    "(d) A & B --> {7,10}\n",
    "(e) A | B --> {2, 4, 5, 6, 7, 9, 10, 19, 20}\n",
    "(f) C < A -> True\n",
    "(g) C <= A -> True\n",
    "(h) C <= B -> True\n",
    "(i) A <= A -> True\n",
    "(j) A < A  -> False\n",
    "(k) len(A) -> 5\n",
    "(l) {x + 2 for x in range(10)} -->{2, 3, 4, 5, 6, 7, 8, 9, 10, 11}\n",
    "(m) {x - 2 for x in A} -> {0, 5, 8, 17, 18}\n",
    "(n) {x - 2 for x in A if x < 10} -> {0, 5}"
   ]
  },
  {
   "cell_type": "code",
   "execution_count": 197,
   "metadata": {},
   "outputs": [
    {
     "data": {
      "text/plain": [
       "{0, 5}"
      ]
     },
     "execution_count": 197,
     "metadata": {},
     "output_type": "execute_result"
    }
   ],
   "source": [
    "A = {20, 19, 2, 10, 7}\n",
    "B = {4, 10, 5, 6, 9, 7}\n",
    "C = {10, 19}\n"
   ]
  },
  {
   "cell_type": "code",
   "execution_count": null,
   "metadata": {},
   "outputs": [],
   "source": []
  }
 ],
 "metadata": {
  "kernelspec": {
   "display_name": "Python 3",
   "language": "python",
   "name": "python3"
  },
  "language_info": {
   "codemirror_mode": {
    "name": "ipython",
    "version": 3
   },
   "file_extension": ".py",
   "mimetype": "text/x-python",
   "name": "python",
   "nbconvert_exporter": "python",
   "pygments_lexer": "ipython3",
   "version": "3.7.3"
  }
 },
 "nbformat": 4,
 "nbformat_minor": 2
}
